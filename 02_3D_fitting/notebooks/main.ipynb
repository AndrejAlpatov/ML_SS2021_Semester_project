{
 "cells": [
  {
   "cell_type": "code",
   "execution_count": null,
   "metadata": {
    "collapsed": true
   },
   "outputs": [],
   "source": [
    "import pandas as pd\n",
    "import numpy as np\n",
    "\n",
    "from data.data_reader import read\n",
    "from fitting.line_fitter_3d import fit_line, get_line\n",
    "from fitting.point_line_distance import get_distances\n",
    "from fitting.vector_geometry_helper import standard_parametric_vector, enclosing_angle\n",
    "from visualization.cloud_visualization import plot_3d_line, plot_3d_cloud\n",
    "\n",
    "% matplotlib inline"
   ]
  },
  {
   "cell_type": "code",
   "execution_count": null,
   "outputs": [],
   "source": [
    "df = read(nrows=10000)\n",
    "df.head()"
   ],
   "metadata": {
    "collapsed": false,
    "pycharm": {
     "name": "#%%\n"
    }
   }
  },
  {
   "cell_type": "code",
   "execution_count": null,
   "outputs": [],
   "source": [
    "print(df['parentID'].unique())\n",
    "print(len(df))"
   ],
   "metadata": {
    "collapsed": false,
    "pycharm": {
     "name": "#%%\n"
    }
   }
  },
  {
   "cell_type": "code",
   "execution_count": null,
   "outputs": [],
   "source": [
    "\n",
    "df_primary = df[df['parentID'] == 0]\n",
    "print(len(df_primary))\n",
    "print(df['eventID'].unique())\n",
    "\n",
    "MAX_EVENT_ID = df['eventID'].max()\n",
    "POOL = df['eventID'].unique()\n",
    "\n",
    "plot_3d_cloud(df)"
   ],
   "metadata": {
    "collapsed": false,
    "pycharm": {
     "name": "#%%\n"
    }
   }
  },
  {
   "cell_type": "code",
   "execution_count": null,
   "outputs": [],
   "source": [
    "\n",
    "# for eventID in POOL:\n",
    "#     df_tmp = df[df['eventID'] == eventID].copy(deep=True)\n",
    "#     plot_3d_cloud(df_tmp, 'eventID = ' + str(eventID))\n",
    "#     message = input('--> ')\n",
    "#     if message == '-1':\n",
    "#         break\n"
   ],
   "metadata": {
    "collapsed": false,
    "pycharm": {
     "name": "#%%\n"
    }
   }
  },
  {
   "cell_type": "code",
   "execution_count": null,
   "outputs": [],
   "source": [
    "def calc_statistical_moments(part):\n",
    "    points = part[['posX', 'posY', 'posZ']]\n",
    "    u, v = fit_line(points)\n",
    "    distances = get_distances(u, v, points)\n",
    "    part['mean'] = distances.mean()\n",
    "    part['std'] = distances.std()\n",
    "    part['var'] = distances.var()\n",
    "    return part\n",
    "\n",
    "\n",
    "df_primary.groupby(['eventID']).apply(calc_statistical_moments)"
   ],
   "metadata": {
    "collapsed": false,
    "pycharm": {
     "name": "#%%\n"
    }
   }
  },
  {
   "cell_type": "code",
   "execution_count": null,
   "outputs": [],
   "source": [
    "tracks = df_primary.groupby(['eventID'])\n",
    "\n",
    "statistic = []\n",
    "for _, track in tracks:\n",
    "    points = track[['posX', 'posY', 'posZ']]\n",
    "    u, v = fit_line(points)\n",
    "    u_standard, v_standard = standard_parametric_vector(u, v)\n",
    "    distances = get_distances(u, v, points)\n",
    "    track_statistic = {'eventID'    : track['eventID'].iloc[0],\n",
    "                       'parentID'   : track['parentID'].iloc[0],\n",
    "                       'PDGEncoding': track['PDGEncoding'].iloc[0],\n",
    "                       'edep'       : track['edep'].to_list(),\n",
    "                       'mean'       : distances.mean(),\n",
    "                       'std'        : distances.std(),\n",
    "                       'var'        : distances.var(),\n",
    "                       'u'          : list(u_standard),\n",
    "                       'v'          : list(v_standard)}\n",
    "    statistic.append(track_statistic)\n",
    "\n",
    "df_statistic = pd.DataFrame(statistic,\n",
    "                            columns=['eventID', 'parentID', 'PDGEncoding', 'edep', 'mean', 'std', 'var', 'u', 'v'])"
   ],
   "metadata": {
    "collapsed": false,
    "pycharm": {
     "name": "#%%\n"
    }
   }
  },
  {
   "cell_type": "code",
   "execution_count": null,
   "outputs": [],
   "source": [
    "with pd.option_context('display.max_rows', None, 'display.max_columns', None):  # more options can be specified also\n",
    "    display(df_statistic)\n"
   ],
   "metadata": {
    "collapsed": false,
    "pycharm": {
     "name": "#%%\n"
    }
   }
  },
  {
   "cell_type": "code",
   "execution_count": null,
   "outputs": [],
   "source": [],
   "metadata": {
    "collapsed": false,
    "pycharm": {
     "name": "#%%\n"
    }
   }
  }
 ],
 "metadata": {
  "kernelspec": {
   "display_name": "Python 3",
   "language": "python",
   "name": "python3"
  },
  "language_info": {
   "codemirror_mode": {
    "name": "ipython",
    "version": 2
   },
   "file_extension": ".py",
   "mimetype": "text/x-python",
   "name": "python",
   "nbconvert_exporter": "python",
   "pygments_lexer": "ipython2",
   "version": "2.7.6"
  }
 },
 "nbformat": 4,
 "nbformat_minor": 0
}