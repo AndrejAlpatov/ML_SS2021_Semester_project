{
 "cells": [
  {
   "cell_type": "markdown",
   "metadata": {
    "toc-hr-collapsed": false
   },
   "source": [
    "# Fitting a line in 3D\n",
    "\n",
    "Source: [Stackoverflow](https://stackoverflow.com/a/2333251)\n",
    "\n",
    "If you are trying to predict one value from the other two, then you should use lstsq with the a argument as your independent variables (plus a column of 1's to estimate an intercept) and b as your dependent variable.\n",
    "\n",
    "If, on the other hand, you just want to get the best fitting line to the data, i.e. the line which, if you projected the data onto it, would minimize the squared distance between the real point and its projection, then what you want is the first principal component.\n",
    "\n",
    "One way to define it is the line whose direction vector is the eigenvector of the covariance matrix corresponding to the largest eigenvalue, that passes through the mean of your data. That said, eig(cov(data)) is a really bad way to calculate it, since it does a lot of needless computation and copying and is potentially less accurate than using svd. See below:\n",
    "\n",
    "Generate some data that lies along a line \n",
    "and perturb with some Gaussian noise.\n",
    "\n",
    "For a description of ```np.newaxis``` look here\n",
    "[stackoverflow](https://stackoverflow.com/a/41267079).\n",
    "\n",
    "For a explanation of ```j``` in ```np.mgrid``` look here\n",
    "[Numpy Docs](https://numpy.org/doc/stable/reference/generated/numpy.mgrid.html)."
   ]
  },
  {
   "cell_type": "code",
   "execution_count": null,
   "metadata": {},
   "outputs": [],
   "source": [
    "import numpy as np\n",
    "\n",
    "%matplotlib inline\n",
    "\n",
    "x = np.mgrid[-2:5:120j]\n",
    "y = np.mgrid[1:9:120j]\n",
    "z = np.mgrid[-5:3:120j]\n",
    "\n",
    "data = np.concatenate((x[:, np.newaxis], \n",
    "                       y[:, np.newaxis], \n",
    "                       z[:, np.newaxis]), \n",
    "                      axis=1)\n",
    "\n",
    "data += np.random.normal(size=data.shape) * 0.4\n",
    "pass"
   ]
  },
  {
   "cell_type": "markdown",
   "source": [
    "Calculate the mean of the points, i.e. the 'center' of the cloud.\n",
    "\n",
    "Do an SVD on the mean-centered data.\n",
    "\n",
    "Now ```vv[0]``` contains the first principal component, i.e. the direction\n",
    "vector of the 'best fit' line in the least squares sense."
   ],
   "metadata": {
    "collapsed": false,
    "pycharm": {
     "name": "#%% md\n"
    }
   }
  },
  {
   "cell_type": "code",
   "execution_count": null,
   "outputs": [],
   "source": [
    "data_mean = data.mean(axis=0)\n",
    "uu, dd, vv = np.linalg.svd(data - data_mean)"
   ],
   "metadata": {
    "collapsed": false,
    "pycharm": {
     "name": "#%%\n"
    }
   }
  },
  {
   "cell_type": "markdown",
   "source": [
    "Now generate some points along this best fit line, for plotting.\n",
    "\n",
    "I use ```-7, 7``` since the spread of the data is roughly ```14```\n",
    "and we want it to have mean ```0``` (like the points we did\n",
    "the svd on). Also, it's a straight line, so we only need two points.\n",
    "\n",
    "Shift by the mean to get the line in the right place."
   ],
   "metadata": {
    "collapsed": false,
    "pycharm": {
     "name": "#%% md\n"
    }
   }
  },
  {
   "cell_type": "code",
   "execution_count": null,
   "outputs": [],
   "source": [
    "line_points = vv[0] * np.mgrid[-7:7:2j][:, np.newaxis]\n",
    "line_points += data_mean"
   ],
   "metadata": {
    "collapsed": false,
    "pycharm": {
     "name": "#%%\n"
    }
   }
  },
  {
   "cell_type": "markdown",
   "source": [
    "Verify that everything looks right."
   ],
   "metadata": {
    "collapsed": false,
    "pycharm": {
     "name": "#%% md\n"
    }
   }
  },
  {
   "cell_type": "code",
   "execution_count": null,
   "outputs": [],
   "source": [
    "import matplotlib.pyplot as plt\n",
    "import mpl_toolkits.mplot3d as m3d\n",
    "\n",
    "ax = m3d.Axes3D(plt.figure())\n",
    "ax.scatter3D(*data.T)\n",
    "ax.plot3D(*line_points.T)\n",
    "plt.show()"
   ],
   "metadata": {
    "collapsed": false,
    "pycharm": {
     "name": "#%%\n"
    }
   }
  }
 ],
 "metadata": {
  "kernelspec": {
   "display_name": "Python 3",
   "language": "python",
   "name": "python3"
  },
  "language_info": {
   "codemirror_mode": {
    "name": "ipython",
    "version": 3
   },
   "file_extension": ".py",
   "mimetype": "text/x-python",
   "name": "python",
   "nbconvert_exporter": "python",
   "pygments_lexer": "ipython3",
   "version": "3.7.3"
  },
  "toc-showmarkdowntxt": true
 },
 "nbformat": 4,
 "nbformat_minor": 4
}