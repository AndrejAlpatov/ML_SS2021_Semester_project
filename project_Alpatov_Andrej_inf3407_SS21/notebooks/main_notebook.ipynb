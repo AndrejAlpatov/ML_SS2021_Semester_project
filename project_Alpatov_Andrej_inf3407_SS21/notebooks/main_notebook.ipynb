{
 "cells": [
  {
   "cell_type": "markdown",
   "source": [
    "# Machine learning project for studying dataset pCT-Proton-3-ALPIDE-Chips.\n",
    "## Using the K-Neighbors model for clustering tracks on having signs of anomalies and without them\n",
    "### Alpatov Andrej"
   ],
   "metadata": {
    "collapsed": false
   }
  },
  {
   "cell_type": "markdown",
   "source": [
    "## Import of required packages"
   ],
   "metadata": {
    "collapsed": false
   }
  },
  {
   "cell_type": "code",
   "execution_count": 106,
   "outputs": [],
   "source": [
    "import os\n",
    "os.environ[\"PATH\"] += os.pathsep + 'C:/Program Files (x86)/Graphviz/bin/'\n",
    "\n",
    "import matplotlib.pyplot as plt\n",
    "import pandas as pd\n",
    "import numpy as np\n",
    "import features.dataframe_info as dfi\n",
    "import features.grouping_dataframe as gdf\n",
    "import features.add_column_with_count_of_elements as coe\n",
    "import features.create_x_y_train_and_test_sets\n",
    "import features.fine_tuning_of_kneighbors_model as ft\n",
    "import visualization.plot_generator as pg\n",
    "from data import data_reader_from_csv as dr\n",
    "import models.k_neighbors_model as knm\n",
    "from sklearn.metrics import classification_report, confusion_matrix\n",
    "from sklearn.neighbors import KNeighborsClassifier"
   ],
   "metadata": {
    "collapsed": false,
    "pycharm": {
     "name": "#%%\n"
    }
   }
  },
  {
   "cell_type": "markdown",
   "source": [
    "## Loading a dataset pCT-Proton-3-ALPIDE-Chips as a pandas dataframe"
   ],
   "metadata": {
    "collapsed": false
   }
  },
  {
   "cell_type": "code",
   "execution_count": 75,
   "outputs": [
    {
     "data": {
      "text/plain": "        id_plane   id_x   id_y  i_event  i_time_stamp\n0              1  492.0  310.0       32         21600\n1              1  493.0  310.0       32         21600\n2              1  493.0  311.0       32         21600\n3              1  492.0  311.0       32         21600\n4              1  493.0  312.0       32         21600\n...          ...    ...    ...      ...           ...\n220133         0  472.0  271.0   240306   19215829070\n220134         0  472.0  272.0   240306   19215829070\n220135         0  473.0  272.0   240306   19215829070\n220136         0  472.0  273.0   240306   19215829070\n220137         0  474.0  271.0   240306   19215829070\n\n[220138 rows x 5 columns]",
      "text/html": "<div>\n<style scoped>\n    .dataframe tbody tr th:only-of-type {\n        vertical-align: middle;\n    }\n\n    .dataframe tbody tr th {\n        vertical-align: top;\n    }\n\n    .dataframe thead th {\n        text-align: right;\n    }\n</style>\n<table border=\"1\" class=\"dataframe\">\n  <thead>\n    <tr style=\"text-align: right;\">\n      <th></th>\n      <th>id_plane</th>\n      <th>id_x</th>\n      <th>id_y</th>\n      <th>i_event</th>\n      <th>i_time_stamp</th>\n    </tr>\n  </thead>\n  <tbody>\n    <tr>\n      <th>0</th>\n      <td>1</td>\n      <td>492.0</td>\n      <td>310.0</td>\n      <td>32</td>\n      <td>21600</td>\n    </tr>\n    <tr>\n      <th>1</th>\n      <td>1</td>\n      <td>493.0</td>\n      <td>310.0</td>\n      <td>32</td>\n      <td>21600</td>\n    </tr>\n    <tr>\n      <th>2</th>\n      <td>1</td>\n      <td>493.0</td>\n      <td>311.0</td>\n      <td>32</td>\n      <td>21600</td>\n    </tr>\n    <tr>\n      <th>3</th>\n      <td>1</td>\n      <td>492.0</td>\n      <td>311.0</td>\n      <td>32</td>\n      <td>21600</td>\n    </tr>\n    <tr>\n      <th>4</th>\n      <td>1</td>\n      <td>493.0</td>\n      <td>312.0</td>\n      <td>32</td>\n      <td>21600</td>\n    </tr>\n    <tr>\n      <th>...</th>\n      <td>...</td>\n      <td>...</td>\n      <td>...</td>\n      <td>...</td>\n      <td>...</td>\n    </tr>\n    <tr>\n      <th>220133</th>\n      <td>0</td>\n      <td>472.0</td>\n      <td>271.0</td>\n      <td>240306</td>\n      <td>19215829070</td>\n    </tr>\n    <tr>\n      <th>220134</th>\n      <td>0</td>\n      <td>472.0</td>\n      <td>272.0</td>\n      <td>240306</td>\n      <td>19215829070</td>\n    </tr>\n    <tr>\n      <th>220135</th>\n      <td>0</td>\n      <td>473.0</td>\n      <td>272.0</td>\n      <td>240306</td>\n      <td>19215829070</td>\n    </tr>\n    <tr>\n      <th>220136</th>\n      <td>0</td>\n      <td>472.0</td>\n      <td>273.0</td>\n      <td>240306</td>\n      <td>19215829070</td>\n    </tr>\n    <tr>\n      <th>220137</th>\n      <td>0</td>\n      <td>474.0</td>\n      <td>271.0</td>\n      <td>240306</td>\n      <td>19215829070</td>\n    </tr>\n  </tbody>\n</table>\n<p>220138 rows × 5 columns</p>\n</div>"
     },
     "execution_count": 75,
     "metadata": {},
     "output_type": "execute_result"
    }
   ],
   "source": [
    "df = dr.read_data_set('pctdata.csv')\n",
    "df"
   ],
   "metadata": {
    "collapsed": false,
    "pycharm": {
     "name": "#%%\n"
    }
   }
  },
  {
   "cell_type": "markdown",
   "source": [
    "## Basic information about the dataset"
   ],
   "metadata": {
    "collapsed": false
   }
  },
  {
   "cell_type": "code",
   "execution_count": 76,
   "outputs": [
    {
     "name": "stdout",
     "output_type": "stream",
     "text": [
      "<class 'pandas.core.frame.DataFrame'>\n",
      "RangeIndex: 220138 entries, 0 to 220137\n",
      "Data columns (total 5 columns):\n",
      " #   Column        Non-Null Count   Dtype  \n",
      "---  ------        --------------   -----  \n",
      " 0   id_plane      220138 non-null  int64  \n",
      " 1   id_x          220138 non-null  float64\n",
      " 2   id_y          220138 non-null  float64\n",
      " 3   i_event       220138 non-null  int64  \n",
      " 4   i_time_stamp  220138 non-null  int64  \n",
      "dtypes: float64(2), int64(3)\n",
      "memory usage: 8.4 MB\n"
     ]
    },
    {
     "data": {
      "text/plain": "(None,\n             id_plane           id_x           id_y        i_event  \\\n count  220138.000000  220138.000000  220138.000000  220138.000000   \n mean        0.977087     542.052535     293.056724  121902.603517   \n std         0.808873     164.238880      95.414469   68927.426627   \n min         0.000000       0.000000       0.000000      32.000000   \n 25%         0.000000     498.000000     253.000000   62468.000000   \n 50%         1.000000     540.000000     293.000000  125313.000000   \n 75%         2.000000     587.000000     340.000000  179091.000000   \n max         2.000000    1023.000000     511.000000  240306.000000   \n \n        i_time_stamp  \n count  2.201380e+05  \n mean   9.747214e+09  \n std    5.513849e+09  \n min    2.160000e+04  \n 25%    4.991985e+09  \n 50%    1.002388e+10  \n 75%    1.431988e+10  \n max    1.921583e+10  ,\n (220138, 5))"
     },
     "execution_count": 76,
     "metadata": {},
     "output_type": "execute_result"
    }
   ],
   "source": [
    "dfi.dataframe_all_basic_information(df)#dataframe_info.dataframe_all_basic_information(df)"
   ],
   "metadata": {
    "collapsed": false,
    "pycharm": {
     "name": "#%%\n"
    }
   }
  },
  {
   "cell_type": "markdown",
   "source": [
    "## Number of unique Labels in the columns: 'id_plane', 'i_event', 'i_time_stamp'"
   ],
   "metadata": {
    "collapsed": false
   }
  },
  {
   "cell_type": "code",
   "execution_count": 77,
   "outputs": [
    {
     "data": {
      "text/plain": "id_plane            3\ni_event         22789\ni_time_stamp    22789\ndtype: int64"
     },
     "execution_count": 77,
     "metadata": {},
     "output_type": "execute_result"
    }
   ],
   "source": [
    "LABELS=['id_plane', 'i_event', 'i_time_stamp']\n",
    "dfi.number_unique_labels_in_dataframe_columns(df, LABELS)"
   ],
   "metadata": {
    "collapsed": false,
    "pycharm": {
     "name": "#%%\n"
    }
   }
  },
  {
   "cell_type": "markdown",
   "source": [
    "#### Grouping dataframe by i_event and id_plane values. Average and standard deviation are calculated for id_x and id_y values"
   ],
   "metadata": {
    "collapsed": false
   }
  },
  {
   "cell_type": "code",
   "execution_count": 78,
   "outputs": [],
   "source": [
    "df_grouped_by_i_event_and_id_plane = \\\n",
    "    gdf.grouping_dataframe_(df, ['i_event', 'id_plane'], ['id_x', 'id_y'], [np.mean, np.std])\n",
    "\n",
    "    # Simplification of the structure, removed the hierarchy in the column names\n",
    "df_temp = pd.DataFrame()\n",
    "df_temp['i_event']= df_grouped_by_i_event_and_id_plane['i_event']\n",
    "df_temp['id_plane'] = df_grouped_by_i_event_and_id_plane['id_plane']\n",
    "df_temp['id_x_std'] = df_grouped_by_i_event_and_id_plane[('id_x', 'std')]\n",
    "df_temp['id_x_mean'] = df_grouped_by_i_event_and_id_plane[('id_x', 'mean')]\n",
    "df_temp['id_y_std'] = df_grouped_by_i_event_and_id_plane[('id_y', 'std')]\n",
    "df_temp['id_y_mean'] = df_grouped_by_i_event_and_id_plane[('id_y', 'mean')]"
   ],
   "metadata": {
    "collapsed": false,
    "pycharm": {
     "name": "#%%\n"
    }
   }
  },
  {
   "cell_type": "markdown",
   "source": [
    "#### Adding columns with the standard deviation of the coordinate values and the frequency of occurrence of i_event values to the dataframe"
   ],
   "metadata": {
    "collapsed": false
   }
  },
  {
   "cell_type": "code",
   "execution_count": 79,
   "outputs": [],
   "source": [
    "# add columns 'std_x' and 'std_y' to dataframe: df_plus_std_and_mean\n",
    "df_plus_std_and_mean =df.merge(df_temp, on=['i_event', 'id_plane'])\n",
    "\n",
    "# Counting the frequency of values in the i_event column and adding the result to the dataframe\n",
    "df_with_std_and_eventCount = coe.add_column_with_count_of_elements(df_plus_std_and_mean,\n",
    "                                                                   'i_event', 'event_count')"
   ],
   "metadata": {
    "collapsed": false,
    "pycharm": {
     "name": "#%%\n"
    }
   }
  },
  {
   "cell_type": "markdown",
   "source": [
    "## Dataframe with 'new' columns:\n",
    "### 'id_x_std',  'id_x_mean',  'id_y_std',  'id_y_mean',  'event_count'"
   ],
   "metadata": {
    "collapsed": false
   }
  },
  {
   "cell_type": "code",
   "execution_count": 80,
   "outputs": [
    {
     "data": {
      "text/plain": "        id_plane   id_x   id_y  i_event  i_time_stamp  id_x_std   id_x_mean  \\\n0              1  492.0  310.0       32         21600  1.264911  494.000000   \n1              1  493.0  310.0       32         21600  1.264911  494.000000   \n2              1  493.0  311.0       32         21600  1.264911  494.000000   \n3              1  492.0  311.0       32         21600  1.264911  494.000000   \n4              1  493.0  312.0       32         21600  1.264911  494.000000   \n...          ...    ...    ...      ...           ...       ...         ...   \n220133         0  472.0  271.0   240306   19215829070  0.981650  472.181818   \n220134         0  472.0  272.0   240306   19215829070  0.981650  472.181818   \n220135         0  473.0  272.0   240306   19215829070  0.981650  472.181818   \n220136         0  472.0  273.0   240306   19215829070  0.981650  472.181818   \n220137         0  474.0  271.0   240306   19215829070  0.981650  472.181818   \n\n        id_y_std   id_y_mean  event_count  \n0       1.264911  312.000000           16  \n1       1.264911  312.000000           16  \n2       1.264911  312.000000           16  \n3       1.264911  312.000000           16  \n4       1.264911  312.000000           16  \n...          ...         ...          ...  \n220133  0.981650  271.181818           11  \n220134  0.981650  271.181818           11  \n220135  0.981650  271.181818           11  \n220136  0.981650  271.181818           11  \n220137  0.981650  271.181818           11  \n\n[220138 rows x 10 columns]",
      "text/html": "<div>\n<style scoped>\n    .dataframe tbody tr th:only-of-type {\n        vertical-align: middle;\n    }\n\n    .dataframe tbody tr th {\n        vertical-align: top;\n    }\n\n    .dataframe thead th {\n        text-align: right;\n    }\n</style>\n<table border=\"1\" class=\"dataframe\">\n  <thead>\n    <tr style=\"text-align: right;\">\n      <th></th>\n      <th>id_plane</th>\n      <th>id_x</th>\n      <th>id_y</th>\n      <th>i_event</th>\n      <th>i_time_stamp</th>\n      <th>id_x_std</th>\n      <th>id_x_mean</th>\n      <th>id_y_std</th>\n      <th>id_y_mean</th>\n      <th>event_count</th>\n    </tr>\n  </thead>\n  <tbody>\n    <tr>\n      <th>0</th>\n      <td>1</td>\n      <td>492.0</td>\n      <td>310.0</td>\n      <td>32</td>\n      <td>21600</td>\n      <td>1.264911</td>\n      <td>494.000000</td>\n      <td>1.264911</td>\n      <td>312.000000</td>\n      <td>16</td>\n    </tr>\n    <tr>\n      <th>1</th>\n      <td>1</td>\n      <td>493.0</td>\n      <td>310.0</td>\n      <td>32</td>\n      <td>21600</td>\n      <td>1.264911</td>\n      <td>494.000000</td>\n      <td>1.264911</td>\n      <td>312.000000</td>\n      <td>16</td>\n    </tr>\n    <tr>\n      <th>2</th>\n      <td>1</td>\n      <td>493.0</td>\n      <td>311.0</td>\n      <td>32</td>\n      <td>21600</td>\n      <td>1.264911</td>\n      <td>494.000000</td>\n      <td>1.264911</td>\n      <td>312.000000</td>\n      <td>16</td>\n    </tr>\n    <tr>\n      <th>3</th>\n      <td>1</td>\n      <td>492.0</td>\n      <td>311.0</td>\n      <td>32</td>\n      <td>21600</td>\n      <td>1.264911</td>\n      <td>494.000000</td>\n      <td>1.264911</td>\n      <td>312.000000</td>\n      <td>16</td>\n    </tr>\n    <tr>\n      <th>4</th>\n      <td>1</td>\n      <td>493.0</td>\n      <td>312.0</td>\n      <td>32</td>\n      <td>21600</td>\n      <td>1.264911</td>\n      <td>494.000000</td>\n      <td>1.264911</td>\n      <td>312.000000</td>\n      <td>16</td>\n    </tr>\n    <tr>\n      <th>...</th>\n      <td>...</td>\n      <td>...</td>\n      <td>...</td>\n      <td>...</td>\n      <td>...</td>\n      <td>...</td>\n      <td>...</td>\n      <td>...</td>\n      <td>...</td>\n      <td>...</td>\n    </tr>\n    <tr>\n      <th>220133</th>\n      <td>0</td>\n      <td>472.0</td>\n      <td>271.0</td>\n      <td>240306</td>\n      <td>19215829070</td>\n      <td>0.981650</td>\n      <td>472.181818</td>\n      <td>0.981650</td>\n      <td>271.181818</td>\n      <td>11</td>\n    </tr>\n    <tr>\n      <th>220134</th>\n      <td>0</td>\n      <td>472.0</td>\n      <td>272.0</td>\n      <td>240306</td>\n      <td>19215829070</td>\n      <td>0.981650</td>\n      <td>472.181818</td>\n      <td>0.981650</td>\n      <td>271.181818</td>\n      <td>11</td>\n    </tr>\n    <tr>\n      <th>220135</th>\n      <td>0</td>\n      <td>473.0</td>\n      <td>272.0</td>\n      <td>240306</td>\n      <td>19215829070</td>\n      <td>0.981650</td>\n      <td>472.181818</td>\n      <td>0.981650</td>\n      <td>271.181818</td>\n      <td>11</td>\n    </tr>\n    <tr>\n      <th>220136</th>\n      <td>0</td>\n      <td>472.0</td>\n      <td>273.0</td>\n      <td>240306</td>\n      <td>19215829070</td>\n      <td>0.981650</td>\n      <td>472.181818</td>\n      <td>0.981650</td>\n      <td>271.181818</td>\n      <td>11</td>\n    </tr>\n    <tr>\n      <th>220137</th>\n      <td>0</td>\n      <td>474.0</td>\n      <td>271.0</td>\n      <td>240306</td>\n      <td>19215829070</td>\n      <td>0.981650</td>\n      <td>472.181818</td>\n      <td>0.981650</td>\n      <td>271.181818</td>\n      <td>11</td>\n    </tr>\n  </tbody>\n</table>\n<p>220138 rows × 10 columns</p>\n</div>"
     },
     "execution_count": 80,
     "metadata": {},
     "output_type": "execute_result"
    }
   ],
   "source": [
    "df_with_std_and_eventCount"
   ],
   "metadata": {
    "collapsed": false,
    "pycharm": {
     "name": "#%%\n"
    }
   }
  },
  {
   "cell_type": "markdown",
   "source": [
    "## Adding a feature 'anomaly'\n",
    "#### Dataframe without anomalies (i_event contains one group of items (about 10 tracks), where the standard deviation is less than 1.2)"
   ],
   "metadata": {
    "collapsed": false
   }
  },
  {
   "cell_type": "code",
   "execution_count": 81,
   "outputs": [
    {
     "name": "stderr",
     "output_type": "stream",
     "text": [
      "C:\\Users\\andre\\anaconda3\\lib\\site-packages\\pandas\\core\\reshape\\merge.py:643: UserWarning: merging between different levels can give an unintended result (1 levels on the left,2 on the right)\n",
      "  warnings.warn(msg, UserWarning)\n",
      "C:\\Users\\andre\\anaconda3\\lib\\site-packages\\pandas\\core\\generic.py:3887: PerformanceWarning: dropping on a non-lexsorted multi-index without a level parameter may impact performance.\n",
      "  obj = obj._drop_axis(labels, axis, level=level, errors=errors)\n"
     ]
    },
    {
     "data": {
      "text/plain": "        id_plane   id_x   id_y  i_event  i_time_stamp  id_x_std   id_x_mean  \\\n0              2  558.0  422.0       47         33598  0.831209  558.909091   \n1              2  559.0  422.0       47         33598  0.831209  558.909091   \n2              2  559.0  423.0       47         33598  0.831209  558.909091   \n3              2  558.0  423.0       47         33598  0.831209  558.909091   \n4              2  558.0  424.0       47         33598  0.831209  558.909091   \n...          ...    ...    ...      ...           ...       ...         ...   \n181574         0  472.0  271.0   240306   19215829070  0.981650  472.181818   \n181575         0  472.0  272.0   240306   19215829070  0.981650  472.181818   \n181576         0  473.0  272.0   240306   19215829070  0.981650  472.181818   \n181577         0  472.0  273.0   240306   19215829070  0.981650  472.181818   \n181578         0  474.0  271.0   240306   19215829070  0.981650  472.181818   \n\n        id_y_std   id_y_mean  event_count  anomaly  \n0       1.120065  423.363636           11        1  \n1       1.120065  423.363636           11        1  \n2       1.120065  423.363636           11        1  \n3       1.120065  423.363636           11        1  \n4       1.120065  423.363636           11        1  \n...          ...         ...          ...      ...  \n181574  0.981650  271.181818           11        1  \n181575  0.981650  271.181818           11        1  \n181576  0.981650  271.181818           11        1  \n181577  0.981650  271.181818           11        1  \n181578  0.981650  271.181818           11        1  \n\n[181579 rows x 11 columns]",
      "text/html": "<div>\n<style scoped>\n    .dataframe tbody tr th:only-of-type {\n        vertical-align: middle;\n    }\n\n    .dataframe tbody tr th {\n        vertical-align: top;\n    }\n\n    .dataframe thead th {\n        text-align: right;\n    }\n</style>\n<table border=\"1\" class=\"dataframe\">\n  <thead>\n    <tr style=\"text-align: right;\">\n      <th></th>\n      <th>id_plane</th>\n      <th>id_x</th>\n      <th>id_y</th>\n      <th>i_event</th>\n      <th>i_time_stamp</th>\n      <th>id_x_std</th>\n      <th>id_x_mean</th>\n      <th>id_y_std</th>\n      <th>id_y_mean</th>\n      <th>event_count</th>\n      <th>anomaly</th>\n    </tr>\n  </thead>\n  <tbody>\n    <tr>\n      <th>0</th>\n      <td>2</td>\n      <td>558.0</td>\n      <td>422.0</td>\n      <td>47</td>\n      <td>33598</td>\n      <td>0.831209</td>\n      <td>558.909091</td>\n      <td>1.120065</td>\n      <td>423.363636</td>\n      <td>11</td>\n      <td>1</td>\n    </tr>\n    <tr>\n      <th>1</th>\n      <td>2</td>\n      <td>559.0</td>\n      <td>422.0</td>\n      <td>47</td>\n      <td>33598</td>\n      <td>0.831209</td>\n      <td>558.909091</td>\n      <td>1.120065</td>\n      <td>423.363636</td>\n      <td>11</td>\n      <td>1</td>\n    </tr>\n    <tr>\n      <th>2</th>\n      <td>2</td>\n      <td>559.0</td>\n      <td>423.0</td>\n      <td>47</td>\n      <td>33598</td>\n      <td>0.831209</td>\n      <td>558.909091</td>\n      <td>1.120065</td>\n      <td>423.363636</td>\n      <td>11</td>\n      <td>1</td>\n    </tr>\n    <tr>\n      <th>3</th>\n      <td>2</td>\n      <td>558.0</td>\n      <td>423.0</td>\n      <td>47</td>\n      <td>33598</td>\n      <td>0.831209</td>\n      <td>558.909091</td>\n      <td>1.120065</td>\n      <td>423.363636</td>\n      <td>11</td>\n      <td>1</td>\n    </tr>\n    <tr>\n      <th>4</th>\n      <td>2</td>\n      <td>558.0</td>\n      <td>424.0</td>\n      <td>47</td>\n      <td>33598</td>\n      <td>0.831209</td>\n      <td>558.909091</td>\n      <td>1.120065</td>\n      <td>423.363636</td>\n      <td>11</td>\n      <td>1</td>\n    </tr>\n    <tr>\n      <th>...</th>\n      <td>...</td>\n      <td>...</td>\n      <td>...</td>\n      <td>...</td>\n      <td>...</td>\n      <td>...</td>\n      <td>...</td>\n      <td>...</td>\n      <td>...</td>\n      <td>...</td>\n      <td>...</td>\n    </tr>\n    <tr>\n      <th>181574</th>\n      <td>0</td>\n      <td>472.0</td>\n      <td>271.0</td>\n      <td>240306</td>\n      <td>19215829070</td>\n      <td>0.981650</td>\n      <td>472.181818</td>\n      <td>0.981650</td>\n      <td>271.181818</td>\n      <td>11</td>\n      <td>1</td>\n    </tr>\n    <tr>\n      <th>181575</th>\n      <td>0</td>\n      <td>472.0</td>\n      <td>272.0</td>\n      <td>240306</td>\n      <td>19215829070</td>\n      <td>0.981650</td>\n      <td>472.181818</td>\n      <td>0.981650</td>\n      <td>271.181818</td>\n      <td>11</td>\n      <td>1</td>\n    </tr>\n    <tr>\n      <th>181576</th>\n      <td>0</td>\n      <td>473.0</td>\n      <td>272.0</td>\n      <td>240306</td>\n      <td>19215829070</td>\n      <td>0.981650</td>\n      <td>472.181818</td>\n      <td>0.981650</td>\n      <td>271.181818</td>\n      <td>11</td>\n      <td>1</td>\n    </tr>\n    <tr>\n      <th>181577</th>\n      <td>0</td>\n      <td>472.0</td>\n      <td>273.0</td>\n      <td>240306</td>\n      <td>19215829070</td>\n      <td>0.981650</td>\n      <td>472.181818</td>\n      <td>0.981650</td>\n      <td>271.181818</td>\n      <td>11</td>\n      <td>1</td>\n    </tr>\n    <tr>\n      <th>181578</th>\n      <td>0</td>\n      <td>474.0</td>\n      <td>271.0</td>\n      <td>240306</td>\n      <td>19215829070</td>\n      <td>0.981650</td>\n      <td>472.181818</td>\n      <td>0.981650</td>\n      <td>271.181818</td>\n      <td>11</td>\n      <td>1</td>\n    </tr>\n  </tbody>\n</table>\n<p>181579 rows × 11 columns</p>\n</div>"
     },
     "execution_count": 81,
     "metadata": {},
     "output_type": "execute_result"
    }
   ],
   "source": [
    "# Getting a part of a dataframe, filtered by the values of the i_event and id_plane columns\n",
    "df_without_anomaly = df_grouped_by_i_event_and_id_plane[(df_grouped_by_i_event_and_id_plane[('id_x', 'std')] < 1.2) &\n",
    "                                                        (df_grouped_by_i_event_and_id_plane[('id_y', 'std')] < 1.2)]\n",
    "\n",
    "df_temp = df_without_anomaly[['i_event', 'id_plane']]\n",
    "# merge the dataframe df_with_std_and_eventCount (inner join) to get the part\n",
    "# that has the corresponding values in the 'i_event' and 'id_plane' columns\n",
    "df_part_without_anomaly =df_with_std_and_eventCount.merge(df_temp, on=['i_event', 'id_plane'])\n",
    "# Populating a column with 1 (no anomalies)\n",
    "df_part_without_anomaly['anomaly']=1\n",
    "\n",
    "df_part_without_anomaly"
   ],
   "metadata": {
    "collapsed": false,
    "pycharm": {
     "name": "#%%\n"
    }
   }
  },
  {
   "cell_type": "markdown",
   "source": [
    "#### Dataframe with anomalies (i_event contains more than one group of items or one large group (about 20 tracks), where the standard deviation is greater than 2.2)\n"
   ],
   "metadata": {
    "collapsed": false
   }
  },
  {
   "cell_type": "code",
   "execution_count": 82,
   "outputs": [
    {
     "name": "stderr",
     "output_type": "stream",
     "text": [
      "C:\\Users\\andre\\anaconda3\\lib\\site-packages\\pandas\\core\\reshape\\merge.py:643: UserWarning: merging between different levels can give an unintended result (1 levels on the left,2 on the right)\n",
      "  warnings.warn(msg, UserWarning)\n",
      "C:\\Users\\andre\\anaconda3\\lib\\site-packages\\pandas\\core\\generic.py:3887: PerformanceWarning: dropping on a non-lexsorted multi-index without a level parameter may impact performance.\n",
      "  obj = obj._drop_axis(labels, axis, level=level, errors=errors)\n"
     ]
    },
    {
     "data": {
      "text/plain": "       id_plane   id_x   id_y  i_event  i_time_stamp    id_x_std   id_x_mean  \\\n0             0  291.0   88.0      440      32026798  116.322999  474.040000   \n1             0  291.0   89.0      440      32026798  116.322999  474.040000   \n2             0  290.0   89.0      440      32026798  116.322999  474.040000   \n3             0  291.0   90.0      440      32026798  116.322999  474.040000   \n4             0  292.0   88.0      440      32026798  116.322999  474.040000   \n...         ...    ...    ...      ...           ...         ...         ...   \n18410         2  609.0  332.0   240222   19215761872   18.316497  588.304348   \n18411         2  609.0  333.0   240222   19215761872   18.316497  588.304348   \n18412         2  608.0  333.0   240222   19215761872   18.316497  588.304348   \n18413         2  610.0  331.0   240222   19215761872   18.316497  588.304348   \n18414         2  610.0  332.0   240222   19215761872   18.316497  588.304348   \n\n         id_y_std   id_y_mean  event_count  anomaly  \n0      140.308018  309.440000           25        0  \n1      140.308018  309.440000           25        0  \n2      140.308018  309.440000           25        0  \n3      140.308018  309.440000           25        0  \n4      140.308018  309.440000           25        0  \n...           ...         ...          ...      ...  \n18410   24.898847  303.956522           23        0  \n18411   24.898847  303.956522           23        0  \n18412   24.898847  303.956522           23        0  \n18413   24.898847  303.956522           23        0  \n18414   24.898847  303.956522           23        0  \n\n[18415 rows x 11 columns]",
      "text/html": "<div>\n<style scoped>\n    .dataframe tbody tr th:only-of-type {\n        vertical-align: middle;\n    }\n\n    .dataframe tbody tr th {\n        vertical-align: top;\n    }\n\n    .dataframe thead th {\n        text-align: right;\n    }\n</style>\n<table border=\"1\" class=\"dataframe\">\n  <thead>\n    <tr style=\"text-align: right;\">\n      <th></th>\n      <th>id_plane</th>\n      <th>id_x</th>\n      <th>id_y</th>\n      <th>i_event</th>\n      <th>i_time_stamp</th>\n      <th>id_x_std</th>\n      <th>id_x_mean</th>\n      <th>id_y_std</th>\n      <th>id_y_mean</th>\n      <th>event_count</th>\n      <th>anomaly</th>\n    </tr>\n  </thead>\n  <tbody>\n    <tr>\n      <th>0</th>\n      <td>0</td>\n      <td>291.0</td>\n      <td>88.0</td>\n      <td>440</td>\n      <td>32026798</td>\n      <td>116.322999</td>\n      <td>474.040000</td>\n      <td>140.308018</td>\n      <td>309.440000</td>\n      <td>25</td>\n      <td>0</td>\n    </tr>\n    <tr>\n      <th>1</th>\n      <td>0</td>\n      <td>291.0</td>\n      <td>89.0</td>\n      <td>440</td>\n      <td>32026798</td>\n      <td>116.322999</td>\n      <td>474.040000</td>\n      <td>140.308018</td>\n      <td>309.440000</td>\n      <td>25</td>\n      <td>0</td>\n    </tr>\n    <tr>\n      <th>2</th>\n      <td>0</td>\n      <td>290.0</td>\n      <td>89.0</td>\n      <td>440</td>\n      <td>32026798</td>\n      <td>116.322999</td>\n      <td>474.040000</td>\n      <td>140.308018</td>\n      <td>309.440000</td>\n      <td>25</td>\n      <td>0</td>\n    </tr>\n    <tr>\n      <th>3</th>\n      <td>0</td>\n      <td>291.0</td>\n      <td>90.0</td>\n      <td>440</td>\n      <td>32026798</td>\n      <td>116.322999</td>\n      <td>474.040000</td>\n      <td>140.308018</td>\n      <td>309.440000</td>\n      <td>25</td>\n      <td>0</td>\n    </tr>\n    <tr>\n      <th>4</th>\n      <td>0</td>\n      <td>292.0</td>\n      <td>88.0</td>\n      <td>440</td>\n      <td>32026798</td>\n      <td>116.322999</td>\n      <td>474.040000</td>\n      <td>140.308018</td>\n      <td>309.440000</td>\n      <td>25</td>\n      <td>0</td>\n    </tr>\n    <tr>\n      <th>...</th>\n      <td>...</td>\n      <td>...</td>\n      <td>...</td>\n      <td>...</td>\n      <td>...</td>\n      <td>...</td>\n      <td>...</td>\n      <td>...</td>\n      <td>...</td>\n      <td>...</td>\n      <td>...</td>\n    </tr>\n    <tr>\n      <th>18410</th>\n      <td>2</td>\n      <td>609.0</td>\n      <td>332.0</td>\n      <td>240222</td>\n      <td>19215761872</td>\n      <td>18.316497</td>\n      <td>588.304348</td>\n      <td>24.898847</td>\n      <td>303.956522</td>\n      <td>23</td>\n      <td>0</td>\n    </tr>\n    <tr>\n      <th>18411</th>\n      <td>2</td>\n      <td>609.0</td>\n      <td>333.0</td>\n      <td>240222</td>\n      <td>19215761872</td>\n      <td>18.316497</td>\n      <td>588.304348</td>\n      <td>24.898847</td>\n      <td>303.956522</td>\n      <td>23</td>\n      <td>0</td>\n    </tr>\n    <tr>\n      <th>18412</th>\n      <td>2</td>\n      <td>608.0</td>\n      <td>333.0</td>\n      <td>240222</td>\n      <td>19215761872</td>\n      <td>18.316497</td>\n      <td>588.304348</td>\n      <td>24.898847</td>\n      <td>303.956522</td>\n      <td>23</td>\n      <td>0</td>\n    </tr>\n    <tr>\n      <th>18413</th>\n      <td>2</td>\n      <td>610.0</td>\n      <td>331.0</td>\n      <td>240222</td>\n      <td>19215761872</td>\n      <td>18.316497</td>\n      <td>588.304348</td>\n      <td>24.898847</td>\n      <td>303.956522</td>\n      <td>23</td>\n      <td>0</td>\n    </tr>\n    <tr>\n      <th>18414</th>\n      <td>2</td>\n      <td>610.0</td>\n      <td>332.0</td>\n      <td>240222</td>\n      <td>19215761872</td>\n      <td>18.316497</td>\n      <td>588.304348</td>\n      <td>24.898847</td>\n      <td>303.956522</td>\n      <td>23</td>\n      <td>0</td>\n    </tr>\n  </tbody>\n</table>\n<p>18415 rows × 11 columns</p>\n</div>"
     },
     "execution_count": 82,
     "metadata": {},
     "output_type": "execute_result"
    }
   ],
   "source": [
    "# Getting a part of a dataframe, filtered by the values of the i_event and id_plane columns\n",
    "df_with_anomaly = df_grouped_by_i_event_and_id_plane[(df_grouped_by_i_event_and_id_plane[('id_x', 'std')] > 2.2) |\n",
    "                                                     (df_grouped_by_i_event_and_id_plane[('id_y', 'std')] > 2.2)]\n",
    "\n",
    "df_temp = df_with_anomaly[['i_event', 'id_plane']]\n",
    "# merge the dataframe df_with_std_and_eventCount (inner join) to get the part\n",
    "# that has the corresponding values in the 'i_event' and 'id_plane' columns\n",
    "df_part_with_anomaly =df_with_std_and_eventCount.merge(df_temp, on=['i_event', 'id_plane'])\n",
    "# Populating a column with 1 (no anomalies)\n",
    "df_part_with_anomaly['anomaly']=0\n",
    "\n",
    "df_part_with_anomaly"
   ],
   "metadata": {
    "collapsed": false,
    "pycharm": {
     "name": "#%%\n"
    }
   }
  },
  {
   "cell_type": "markdown",
   "source": [
    "## United dataframe containing observation with and without anomalies sorted by 'i_event\n",
    "#### The part of the original dataframe (about 9%) with standard deviation values in the range from 1.2 to 2.2 is not included due to the complexity of the manual clustering.\n",
    "##### When building a model, the standard deviation will not be taken into account, so this will not affect the accuracy of the model in any way."
   ],
   "metadata": {
    "collapsed": false
   }
  },
  {
   "cell_type": "code",
   "execution_count": 83,
   "outputs": [
    {
     "data": {
      "text/plain": "        id_plane   id_x   id_y  i_event  i_time_stamp  id_x_std   id_x_mean  \\\n0              2  558.0  422.0       47         33598  0.831209  558.909091   \n1              2  559.0  422.0       47         33598  0.831209  558.909091   \n2              2  559.0  423.0       47         33598  0.831209  558.909091   \n3              2  558.0  423.0       47         33598  0.831209  558.909091   \n4              2  558.0  424.0       47         33598  0.831209  558.909091   \n...          ...    ...    ...      ...           ...       ...         ...   \n181575         0  472.0  272.0   240306   19215829070  0.981650  472.181818   \n181576         0  473.0  272.0   240306   19215829070  0.981650  472.181818   \n181577         0  472.0  273.0   240306   19215829070  0.981650  472.181818   \n181578         0  474.0  271.0   240306   19215829070  0.981650  472.181818   \n181570         0  471.0  272.0   240306   19215829070  0.981650  472.181818   \n\n        id_y_std   id_y_mean  event_count  anomaly  \n0       1.120065  423.363636           11        1  \n1       1.120065  423.363636           11        1  \n2       1.120065  423.363636           11        1  \n3       1.120065  423.363636           11        1  \n4       1.120065  423.363636           11        1  \n...          ...         ...          ...      ...  \n181575  0.981650  271.181818           11        1  \n181576  0.981650  271.181818           11        1  \n181577  0.981650  271.181818           11        1  \n181578  0.981650  271.181818           11        1  \n181570  0.981650  271.181818           11        1  \n\n[199994 rows x 11 columns]",
      "text/html": "<div>\n<style scoped>\n    .dataframe tbody tr th:only-of-type {\n        vertical-align: middle;\n    }\n\n    .dataframe tbody tr th {\n        vertical-align: top;\n    }\n\n    .dataframe thead th {\n        text-align: right;\n    }\n</style>\n<table border=\"1\" class=\"dataframe\">\n  <thead>\n    <tr style=\"text-align: right;\">\n      <th></th>\n      <th>id_plane</th>\n      <th>id_x</th>\n      <th>id_y</th>\n      <th>i_event</th>\n      <th>i_time_stamp</th>\n      <th>id_x_std</th>\n      <th>id_x_mean</th>\n      <th>id_y_std</th>\n      <th>id_y_mean</th>\n      <th>event_count</th>\n      <th>anomaly</th>\n    </tr>\n  </thead>\n  <tbody>\n    <tr>\n      <th>0</th>\n      <td>2</td>\n      <td>558.0</td>\n      <td>422.0</td>\n      <td>47</td>\n      <td>33598</td>\n      <td>0.831209</td>\n      <td>558.909091</td>\n      <td>1.120065</td>\n      <td>423.363636</td>\n      <td>11</td>\n      <td>1</td>\n    </tr>\n    <tr>\n      <th>1</th>\n      <td>2</td>\n      <td>559.0</td>\n      <td>422.0</td>\n      <td>47</td>\n      <td>33598</td>\n      <td>0.831209</td>\n      <td>558.909091</td>\n      <td>1.120065</td>\n      <td>423.363636</td>\n      <td>11</td>\n      <td>1</td>\n    </tr>\n    <tr>\n      <th>2</th>\n      <td>2</td>\n      <td>559.0</td>\n      <td>423.0</td>\n      <td>47</td>\n      <td>33598</td>\n      <td>0.831209</td>\n      <td>558.909091</td>\n      <td>1.120065</td>\n      <td>423.363636</td>\n      <td>11</td>\n      <td>1</td>\n    </tr>\n    <tr>\n      <th>3</th>\n      <td>2</td>\n      <td>558.0</td>\n      <td>423.0</td>\n      <td>47</td>\n      <td>33598</td>\n      <td>0.831209</td>\n      <td>558.909091</td>\n      <td>1.120065</td>\n      <td>423.363636</td>\n      <td>11</td>\n      <td>1</td>\n    </tr>\n    <tr>\n      <th>4</th>\n      <td>2</td>\n      <td>558.0</td>\n      <td>424.0</td>\n      <td>47</td>\n      <td>33598</td>\n      <td>0.831209</td>\n      <td>558.909091</td>\n      <td>1.120065</td>\n      <td>423.363636</td>\n      <td>11</td>\n      <td>1</td>\n    </tr>\n    <tr>\n      <th>...</th>\n      <td>...</td>\n      <td>...</td>\n      <td>...</td>\n      <td>...</td>\n      <td>...</td>\n      <td>...</td>\n      <td>...</td>\n      <td>...</td>\n      <td>...</td>\n      <td>...</td>\n      <td>...</td>\n    </tr>\n    <tr>\n      <th>181575</th>\n      <td>0</td>\n      <td>472.0</td>\n      <td>272.0</td>\n      <td>240306</td>\n      <td>19215829070</td>\n      <td>0.981650</td>\n      <td>472.181818</td>\n      <td>0.981650</td>\n      <td>271.181818</td>\n      <td>11</td>\n      <td>1</td>\n    </tr>\n    <tr>\n      <th>181576</th>\n      <td>0</td>\n      <td>473.0</td>\n      <td>272.0</td>\n      <td>240306</td>\n      <td>19215829070</td>\n      <td>0.981650</td>\n      <td>472.181818</td>\n      <td>0.981650</td>\n      <td>271.181818</td>\n      <td>11</td>\n      <td>1</td>\n    </tr>\n    <tr>\n      <th>181577</th>\n      <td>0</td>\n      <td>472.0</td>\n      <td>273.0</td>\n      <td>240306</td>\n      <td>19215829070</td>\n      <td>0.981650</td>\n      <td>472.181818</td>\n      <td>0.981650</td>\n      <td>271.181818</td>\n      <td>11</td>\n      <td>1</td>\n    </tr>\n    <tr>\n      <th>181578</th>\n      <td>0</td>\n      <td>474.0</td>\n      <td>271.0</td>\n      <td>240306</td>\n      <td>19215829070</td>\n      <td>0.981650</td>\n      <td>472.181818</td>\n      <td>0.981650</td>\n      <td>271.181818</td>\n      <td>11</td>\n      <td>1</td>\n    </tr>\n    <tr>\n      <th>181570</th>\n      <td>0</td>\n      <td>471.0</td>\n      <td>272.0</td>\n      <td>240306</td>\n      <td>19215829070</td>\n      <td>0.981650</td>\n      <td>472.181818</td>\n      <td>0.981650</td>\n      <td>271.181818</td>\n      <td>11</td>\n      <td>1</td>\n    </tr>\n  </tbody>\n</table>\n<p>199994 rows × 11 columns</p>\n</div>"
     },
     "execution_count": 83,
     "metadata": {},
     "output_type": "execute_result"
    }
   ],
   "source": [
    "# Create dataframe containing observation with and without anomalies\n",
    "df_all_entries = df_part_without_anomaly.append(df_part_with_anomaly)\n",
    "# Sorted by 'i_event\n",
    "df_all_entries_sorted_by_i_event = df_all_entries.sort_values('i_event')\n",
    "\n",
    "df_all_entries_sorted_by_i_event"
   ],
   "metadata": {
    "collapsed": false,
    "pycharm": {
     "name": "#%%\n"
    }
   }
  },
  {
   "cell_type": "markdown",
   "source": [
    "## Create Predictor and  target variables.\n",
    "#### Target column: 'anomaly'\n",
    "#### Predictor columns: 'id_plane', 'id_x', 'id_y', 'event_count'\n",
    "## Create train and test sets:"
   ],
   "metadata": {
    "collapsed": false
   }
  },
  {
   "cell_type": "code",
   "execution_count": 84,
   "outputs": [
    {
     "name": "stdout",
     "output_type": "stream",
     "text": [
      "\n",
      "Predictor variables:\n",
      " [[  2. 558. 422.  11.]\n",
      " [  2. 559. 422.  11.]\n",
      " [  2. 559. 423.  11.]\n",
      " ...\n",
      " [  0. 472. 273.  11.]\n",
      " [  0. 474. 271.  11.]\n",
      " [  0. 471. 272.  11.]] \n",
      "\n",
      "Target variable:\n",
      " [1 1 1 ... 1 1 1]\n"
     ]
    }
   ],
   "source": [
    "# Create predictor and  target variables, : X, y\n",
    "# Create train and test sets: X_train, X_test, y_train, y_test\n",
    "\n",
    "y, X, X_train, X_test, y_train, y_test = features.create_x_y_train_and_test_sets.create_x_y_train_and_test_sets(\n",
    "    df_all_entries_sorted_by_i_event, 'anomaly', ['id_plane', 'id_x', 'id_y', 'event_count'],\n",
    "     0.2, 42)\n",
    "\n",
    "print('\\nPredictor variables:\\n', X, '\\n\\nTarget variable:\\n', y)"
   ],
   "metadata": {
    "collapsed": false,
    "pycharm": {
     "name": "#%%\n"
    }
   }
  },
  {
   "cell_type": "markdown",
   "source": [
    "# Model: KNeighborsClassifier\n",
    "### with n_neighbors=1 and scaling the data"
   ],
   "metadata": {
    "collapsed": false
   }
  },
  {
   "cell_type": "code",
   "execution_count": 85,
   "outputs": [
    {
     "name": "stdout",
     "output_type": "stream",
     "text": [
      "\n",
      "Shape of Array with Data: (199994, 4)\n",
      "\n",
      "Accuracy without Scaling: 0.9897497437435936\n",
      "\n",
      "Accuracy with Scaling: 0.9940498512462812\n"
     ]
    }
   ],
   "source": [
    "# Instantiate and fit a Pipeline with k-NN classifier to the scaled data\n",
    "knn_scaled = knm.k_neighbors_model(2, X_train,y_train).fit(X_train, y_train)\n",
    "\n",
    "# Instantiate and fit a k-NN classifier to the unscaled data\n",
    "knn_unscaled = KNeighborsClassifier(n_neighbors = 2).fit(X_train, y_train)\n",
    "\n",
    "# Compute and print metrics. Comparison of model accuracy with scaled and not scaled data\n",
    "print(('\\nShape of Array with Data: {}'.format(X.shape)))\n",
    "print('\\nAccuracy without Scaling: {}'.format(knn_unscaled.score(X_test, y_test)))\n",
    "print('\\nAccuracy with Scaling: {}'.format(knn_scaled.score(X_test, y_test)))"
   ],
   "metadata": {
    "collapsed": false,
    "pycharm": {
     "name": "#%%\n"
    }
   }
  },
  {
   "cell_type": "markdown",
   "source": [
    "## Fine-tuning of model\n",
    "### Calculating model accuracy for neighbors values from 1 to 9"
   ],
   "metadata": {
    "collapsed": false
   }
  },
  {
   "cell_type": "code",
   "execution_count": 86,
   "outputs": [
    {
     "data": {
      "text/plain": "<Figure size 432x288 with 1 Axes>",
      "image/png": "[encoded data removed]"
     },
     "metadata": {
      "needs_background": "light"
     },
     "output_type": "display_data"
    }
   ],
   "source": [
    "# Calculation of the train_accuracy and  test_accuracy of the k-neighbors model\n",
    "# with the values of Parameter n_neighbors from the array 'neighbors'\n",
    "neighbors, train_accuracy, test_accuracy = \\\n",
    "    ft.fine_tuning_of_kneighbors_model(X_train, y_train, X_test, y_test)\n",
    "\n",
    "# Generate plot\n",
    "pg.plot_generator(['k-NN: Varying Number of Neighbors', 'Number of Neighbors', 'Accuracy'],\n",
    "                  [(neighbors, test_accuracy, 'Testing Accuracy'),\n",
    "                   (neighbors, train_accuracy, 'Training Accuracy')])"
   ],
   "metadata": {
    "collapsed": false,
    "pycharm": {
     "name": "#%%\n"
    }
   }
  },
  {
   "cell_type": "markdown",
   "source": [
    "## Confusion matrix, classification report and number of errors"
   ],
   "metadata": {
    "collapsed": false
   }
  },
  {
   "cell_type": "code",
   "execution_count": 87,
   "outputs": [
    {
     "name": "stdout",
     "output_type": "stream",
     "text": [
      "\n",
      "Confusion matrix:\n",
      " [[ 3595    88]\n",
      " [  150 36166]]\n",
      "\n",
      "Classification report:\n",
      "               precision    recall  f1-score   support\n",
      "\n",
      "           0       0.96      0.98      0.97      3683\n",
      "           1       1.00      1.00      1.00     36316\n",
      "\n",
      "    accuracy                           0.99     39999\n",
      "   macro avg       0.98      0.99      0.98     39999\n",
      "weighted avg       0.99      0.99      0.99     39999\n",
      "\n",
      "Number of errors: 673\n"
     ]
    }
   ],
   "source": [
    "# Predict the labels of the test data: y_pred\n",
    "y_pred = knn_scaled.predict(X_test)\n",
    "\n",
    "# Compute and print the confusion matrix and classification report\n",
    "\n",
    "print('\\nConfusion matrix:\\n', confusion_matrix(y_test, y_pred))\n",
    "print('\\nClassification report:\\n', classification_report(y_test, y_pred))\n",
    "# The precision is intuitively the ability of the classifier not to label as positive a sample that is negative.\n",
    "# The recall is intuitively the ability of the classifier to find all the positive samples.\n",
    "\n",
    "# Print the number of errors\n",
    "num_err = np.sum(y != knn_scaled.predict(X))\n",
    "print(\"Number of errors:\", num_err)"
   ],
   "metadata": {
    "collapsed": false,
    "pycharm": {
     "name": "#%%\n"
    }
   }
  },
  {
   "cell_type": "code",
   "execution_count": 88,
   "outputs": [],
   "source": [
    "# Create a dataframe for further models\n",
    "df_to_make_models =  df_all_entries_sorted_by_i_event[['id_plane', 'id_x', 'id_y', 'event_count']]\n",
    "labels_for_model = df_all_entries_sorted_by_i_event['anomaly']"
   ],
   "metadata": {
    "collapsed": false,
    "pycharm": {
     "name": "#%%\n"
    }
   }
  },
  {
   "cell_type": "code",
   "execution_count": 89,
   "outputs": [
    {
     "name": "stdout",
     "output_type": "stream",
     "text": [
      "Average 5-Fold CV Score: 0.9185825851706596\n"
     ]
    }
   ],
   "source": [
    "from sklearn.linear_model import LogisticRegression\n",
    "from sklearn.model_selection import GridSearchCV\n",
    "from sklearn.model_selection import cross_val_score\n",
    "\n",
    "c_space= np.logspace(-5, 1, num=15)\n",
    "penalty_space=['l1', 'l2', 'elasticnet', 'none']\n",
    "X=df_to_make_models\n",
    "y=labels_for_model\n",
    "\n",
    "\n",
    "'''\n",
    "params={'C':c_space, 'penalty':penalty_space}\n",
    "logreg=LogisticRegression()\n",
    "\n",
    "searcher = GridSearchCV(logreg, params, cv=5)\n",
    "searcher.fit(X, y)\n",
    "\n",
    "print('Best Logreg params: ', searcher.best_params_)\n",
    "print('Best score of Logistic Regression:', searcher.best_score_)\n",
    "\n",
    "##########################################################\n",
    "Best Logreg params:  {'C': 1e-05, 'penalty': 'l2'}\n",
    "Best score of Logistic Regression: 0.9185825851706596\n",
    "##########################################################\n",
    "'''\n",
    "\n",
    "logreg =LogisticRegression(C=0.00001)\n",
    "cv_scores=cross_val_score(logreg, X, y, cv=5)\n",
    "\n",
    "print(\"Average 5-Fold CV Score: {}\".format(np.mean(cv_scores)))"
   ],
   "metadata": {
    "collapsed": false,
    "pycharm": {
     "name": "#%%\n"
    }
   }
  },
  {
   "cell_type": "code",
   "execution_count": 90,
   "outputs": [
    {
     "name": "stdout",
     "output_type": "stream",
     "text": [
      "Best score of LinearSVC: 0.917847946198655\n"
     ]
    },
    {
     "name": "stderr",
     "output_type": "stream",
     "text": [
      "C:\\Users\\andre\\anaconda3\\lib\\site-packages\\sklearn\\svm\\_base.py:976: ConvergenceWarning: Liblinear failed to converge, increase the number of iterations.\n",
      "  warnings.warn(\"Liblinear failed to converge, increase \"\n"
     ]
    }
   ],
   "source": [
    "from sklearn.svm import LinearSVC\n",
    "'''\n",
    "c_space=np.logspace(-5, 3, num=15)\n",
    "penalty_space=['l1', 'l2']\n",
    "loss_space=['hinge', 'squared_hinge']\n",
    "params={'C':c_space, 'penalty':penalty_space, 'loss':loss_space}\n",
    "\n",
    "lsvm=LinearSVC()\n",
    "searcher=GridSearchCV(lsvm, params, cv=5)\n",
    "searcher.fit(X, y)\n",
    "\n",
    "print('Best LinearSVC params: ', searcher.best_params_)\n",
    "print('Best score of LinearSVC:', searcher.best_score_)\n",
    "\n",
    "###############################################################\n",
    "Best LinearSVC params:  {'C': 0.0005179474679231213, 'loss': 'squared_hinge', 'penalty': 'l2'}\n",
    "Best score of LinearSVC: 0.9180625652948189\n",
    "###############################################################\n",
    "'''\n",
    "lsvm = LinearSVC(C=0.0005)\n",
    "lsvm.fit(X_train, y_train)\n",
    "y_pred = lsvm.predict(X_test)\n",
    "\n",
    "model_score = lsvm.score(X_test, y_test)\n",
    "print('Best score of LinearSVC:', model_score)"
   ],
   "metadata": {
    "collapsed": false,
    "pycharm": {
     "name": "#%%\n"
    }
   }
  },
  {
   "cell_type": "code",
   "execution_count": 91,
   "outputs": [
    {
     "name": "stdout",
     "output_type": "stream",
     "text": [
      "SVC accuracy_score:  0.9104477611940298\n"
     ]
    }
   ],
   "source": [
    "from  sklearn.svm import  SVC\n",
    "from sklearn.metrics import roc_auc_score\n",
    "from sklearn.metrics import accuracy_score\n",
    "\n",
    "svm=SVC()\n",
    "\n",
    "#c_space=[0.00001, 0.0001, 0.001, 0.01, 0.1, 1, 10, 100, 1000]\n",
    "#kernel_space=['linear', 'rbf']\n",
    "#params={'kernel':kernel_space}\n",
    "\n",
    "svm.fit(X_train, y_train)\n",
    "y_pred = svm.predict(X_test)\n",
    "acc_score_svc=accuracy_score(y_test,y_pred)\n",
    "print('SVC accuracy_score: ', acc_score_svc)"
   ],
   "metadata": {
    "collapsed": false,
    "pycharm": {
     "name": "#%%\n"
    }
   }
  },
  {
   "cell_type": "code",
   "execution_count": 92,
   "outputs": [
    {
     "name": "stdout",
     "output_type": "stream",
     "text": [
      "Decision tree score:  0.9901059408106503\n",
      "Decision tree best params:  {'criterion': 'gini', 'max_depth': None, 'min_samples_leaf': 1, 'splitter': 'random'}\n"
     ]
    }
   ],
   "source": [
    "from sklearn.tree import DecisionTreeClassifier\n",
    "\n",
    "criterion_space=['gini','entropy']\n",
    "splitter_space=['best', 'random']\n",
    "max_depth_space=[2,5,10,20, None]\n",
    "min_samles_leaf_space=[0.12, 0.14, 0.16, 0.18, 0.1, 1]\n",
    "\n",
    "params ={'criterion': criterion_space, 'splitter': splitter_space,\n",
    "         'max_depth':max_depth_space, 'min_samples_leaf': min_samles_leaf_space}\n",
    "dt =DecisionTreeClassifier()\n",
    "searcher = GridSearchCV(dt, params, cv=5, n_jobs=-1)\n",
    "\n",
    "searcher.fit(X_train, y_train)\n",
    "\n",
    "dt=searcher.best_estimator_\n",
    "print('Decision tree score: ', searcher.best_score_)\n",
    "print('Decision tree best params: ', searcher.best_params_)"
   ],
   "metadata": {
    "collapsed": false,
    "pycharm": {
     "name": "#%%\n"
    }
   }
  },
  {
   "cell_type": "code",
   "execution_count": 93,
   "outputs": [
    {
     "name": "stdout",
     "output_type": "stream",
     "text": [
      "Voting Classifier: 0.99230\n"
     ]
    }
   ],
   "source": [
    "# Import VotingClassifier from sklearn.ensemble\n",
    "from sklearn.ensemble import VotingClassifier\n",
    "from sklearn.metrics import  accuracy_score\n",
    "from sklearn.naive_bayes import GaussianNB\n",
    "\n",
    "# Instantiate knn\n",
    "knn = KNeighborsClassifier(n_neighbors=2)\n",
    "\n",
    "clf3 = GaussianNB()\n",
    "\n",
    "classifiers = [('K Nearest Neighbours', knn), ('Classification Tree', dt), ('svc', svm)]\n",
    "\n",
    "# Instantiate a VotingClassifier vc\n",
    "vc = VotingClassifier(estimators=classifiers, n_jobs=3)\n",
    "\n",
    "# Fit vc to the training set\n",
    "vc.fit(X_train, y_train)\n",
    "\n",
    "# Evaluate the test set predictions\n",
    "y_pred = vc.predict(X_test)\n",
    "\n",
    "# Calculate accuracy score\n",
    "accuracy = accuracy_score(y_test, y_pred)\n",
    "print('Voting Classifier: {:.5f}'.format(accuracy))"
   ],
   "metadata": {
    "collapsed": false,
    "pycharm": {
     "name": "#%%\n"
    }
   }
  },
  {
   "cell_type": "code",
   "execution_count": 94,
   "outputs": [
    {
     "name": "stdout",
     "output_type": "stream",
     "text": [
      "Bugging Classifier oob_score: 0.99457\n"
     ]
    }
   ],
   "source": [
    "from sklearn.ensemble import BaggingClassifier\n",
    "\n",
    "bc = BaggingClassifier(base_estimator=dt, n_estimators=1000, n_jobs=-1, random_state=1,\n",
    "                       oob_score=True)\n",
    "\n",
    "bc.fit(X_train, y_train)\n",
    "y_pred = bc.predict(X_test)\n",
    "\n",
    "# Calculate accuracy score\n",
    "accuracy = accuracy_score(y_test, y_pred)\n",
    "aac_oob =bc.oob_score_\n",
    "print('Bugging Classifier oob_score: {:.5f}'.format(aac_oob))"
   ],
   "metadata": {
    "collapsed": false,
    "pycharm": {
     "name": "#%%\n"
    }
   }
  },
  {
   "cell_type": "code",
   "execution_count": 95,
   "outputs": [
    {
     "name": "stdout",
     "output_type": "stream",
     "text": [
      "Randomforest accuracy: 0.99350\n"
     ]
    }
   ],
   "source": [
    "from sklearn.ensemble import RandomForestClassifier\n",
    "\n",
    "rf=RandomForestClassifier(n_estimators=300,random_state=2)\n",
    "\n",
    "rf.fit(X_train, y_train)\n",
    "y_pred=rf.predict(X_test)\n",
    "\n",
    "accuracy = accuracy_score(y_test, y_pred)\n",
    "\n",
    "print('Randomforest accuracy: {:.5f}'.format(accuracy))"
   ],
   "metadata": {
    "collapsed": false,
    "pycharm": {
     "name": "#%%\n"
    }
   }
  },
  {
   "cell_type": "code",
   "execution_count": 96,
   "outputs": [
    {
     "name": "stdout",
     "output_type": "stream",
     "text": [
      "AdaBoosting ROC AUC score: 0.99583\n",
      "AdaBoosting accuracy: 0.99322\n"
     ]
    }
   ],
   "source": [
    "from sklearn.ensemble import AdaBoostClassifier\n",
    "\n",
    "ab =AdaBoostClassifier(base_estimator=dt, n_estimators=500, random_state=1)\n",
    "\n",
    "ab.fit(X_train, y_train)\n",
    "y_pred=ab.predict(X_test)\n",
    "\n",
    "# Compute the probabilities of obtaining the positive class\n",
    "y_pred_proba = ab.predict_proba(X_test)[:,1]\n",
    "\n",
    "# Evaluate test-set roc_auc_score\n",
    "ada_roc_auc = roc_auc_score(y_test, y_pred_proba)\n",
    "\n",
    "accuracy = accuracy_score(y_test, y_pred)\n",
    "\n",
    "# Print roc_auc_score and AdaBoosting accuracy\n",
    "print('AdaBoosting ROC AUC score: {:.5f}'.format(ada_roc_auc))\n",
    "print('AdaBoosting accuracy: {:.5f}'.format(accuracy))"
   ],
   "metadata": {
    "collapsed": false,
    "pycharm": {
     "name": "#%%\n"
    }
   }
  },
  {
   "cell_type": "code",
   "execution_count": 97,
   "outputs": [
    {
     "name": "stdout",
     "output_type": "stream",
     "text": [
      "GradientBoostingClassifier accuracy: 0.93882\n"
     ]
    }
   ],
   "source": [
    "from sklearn.ensemble import GradientBoostingClassifier\n",
    "\n",
    "gb =GradientBoostingClassifier(n_estimators=500, random_state=1)\n",
    "gb.fit(X_train, y_train)\n",
    "y_pred = gb.predict(X_test)\n",
    "acs =accuracy_score(y_test, y_pred)\n",
    "print('GradientBoostingClassifier accuracy: {:.5f}'.format(acs))"
   ],
   "metadata": {
    "collapsed": false,
    "pycharm": {
     "name": "#%%\n"
    }
   }
  },
  {
   "cell_type": "code",
   "execution_count": 98,
   "outputs": [
    {
     "name": "stdout",
     "output_type": "stream",
     "text": [
      "Accuracy stochastic gradient boosting: 0.93882\n"
     ]
    }
   ],
   "source": [
    "sgb=GradientBoostingClassifier(n_estimators=10, random_state=1, subsample=0.8,\n",
    "                              max_features=0.2)\n",
    "\n",
    "sgb.fit(X_train, y_train)\n",
    "sgb.predict(X_test)\n",
    "\n",
    "acc_score_sgb=accuracy_score(y_test, y_pred)\n",
    "print('Accuracy stochastic gradient boosting: {:.5f}'.format(acc_score_sgb))"
   ],
   "metadata": {
    "collapsed": false,
    "pycharm": {
     "name": "#%%\n"
    }
   }
  },
  {
   "cell_type": "code",
   "execution_count": 99,
   "outputs": [
    {
     "name": "stdout",
     "output_type": "stream",
     "text": [
      "[23:58:23] WARNING: ..\\src\\learner.cc:1061: Starting in XGBoost 1.3.0, the default evaluation metric used with the objective 'binary:logistic' was changed from 'error' to 'logloss'. Explicitly set eval_metric if you'd like to restore the old behavior.\n"
     ]
    },
    {
     "name": "stderr",
     "output_type": "stream",
     "text": [
      "C:\\Users\\andre\\anaconda3\\lib\\site-packages\\xgboost\\sklearn.py:888: UserWarning: The use of label encoder in XGBClassifier is deprecated and will be removed in a future release. To remove this warning, do the following: 1) Pass option use_label_encoder=False when constructing XGBClassifier object; and 2) Encode your labels (y) as integers starting with 0, i.e. 0, 1, 2, ..., [num_class - 1].\n",
      "  warnings.warn(label_encoder_deprecation_msg, UserWarning)\n"
     ]
    },
    {
     "name": "stdout",
     "output_type": "stream",
     "text": [
      "XGB score: 0.99227\n"
     ]
    }
   ],
   "source": [
    "from xgboost import XGBClassifier\n",
    "\n",
    "xgb_cl=XGBClassifier(n_estimators=2000, random_state=123, n_jobs=-1)\n",
    "xgb_cl.fit(X_train, y_train)\n",
    "y_pred=xgb_cl.predict(X_test)\n",
    "\n",
    "acc_score_xgb=accuracy_score(y_test,y_pred)\n",
    "\n",
    "print('XGB score: {:.5f}'.format(acc_score_xgb))"
   ],
   "metadata": {
    "collapsed": false,
    "pycharm": {
     "name": "#%%\n"
    }
   }
  },
  {
   "cell_type": "code",
   "execution_count": 100,
   "outputs": [
    {
     "name": "stdout",
     "output_type": "stream",
     "text": [
      "XGB cross validation mean accuracy 0.971614\n"
     ]
    }
   ],
   "source": [
    "import xgboost as xgb\n",
    "\n",
    "dmatrix =xgb.DMatrix(data=X, label=y)\n",
    "\n",
    "params={'max_depth':5}\n",
    "\n",
    "cv_results=xgb.cv(params=params, dtrain=dmatrix,num_boost_round=500,nfold=5,\n",
    "                  metrics='error',as_pandas=True,seed=123)\n",
    "\n",
    "print('XGB cross validation mean accuracy' , ((1-cv_results[\"test-error-mean\"]).iloc[-1]))"
   ],
   "metadata": {
    "collapsed": false,
    "pycharm": {
     "name": "#%%\n"
    }
   }
  },
  {
   "cell_type": "code",
   "execution_count": 108,
   "outputs": [
    {
     "data": {
      "text/plain": "<Figure size 432x288 with 1 Axes>",
      "image/png": "[encoded data removed]"
     },
     "metadata": {
      "needs_background": "light"
     },
     "output_type": "display_data"
    }
   ],
   "source": [
    "xgb.plot_tree(xgb_cl, num_trees=0, )\n",
    "plt.show()"
   ],
   "metadata": {
    "collapsed": false,
    "pycharm": {
     "name": "#%%\n"
    }
   }
  },
  {
   "cell_type": "code",
   "execution_count": 109,
   "outputs": [
    {
     "data": {
      "text/plain": "<Figure size 432x288 with 1 Axes>",
      "image/png": "[encoded data removed]"
     },
     "metadata": {
      "needs_background": "light"
     },
     "output_type": "display_data"
    }
   ],
   "source": [
    "xgb.plot_importance(xgb_cl)\n",
    "plt.show()"
   ],
   "metadata": {
    "collapsed": false,
    "pycharm": {
     "name": "#%%\n"
    }
   }
  },
  {
   "cell_type": "code",
   "execution_count": null,
   "outputs": [],
   "source": [],
   "metadata": {
    "collapsed": false,
    "pycharm": {
     "name": "#%%\n"
    }
   }
  }
 ],
 "metadata": {
  "kernelspec": {
   "display_name": "Python 3",
   "language": "python",
   "name": "python3"
  },
  "language_info": {
   "codemirror_mode": {
    "name": "ipython",
    "version": 2
   },
   "file_extension": ".py",
   "mimetype": "text/x-python",
   "name": "python",
   "nbconvert_exporter": "python",
   "pygments_lexer": "ipython2",
   "version": "2.7.6"
  }
 },
 "nbformat": 4,
 "nbformat_minor": 0
}